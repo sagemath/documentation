{
 "cells": [
  {
   "cell_type": "code",
   "execution_count": 1,
   "id": "851ea85d",
   "metadata": {
    "execution": {
     "iopub.execute_input": "2023-12-06T18:48:32.575241Z",
     "iopub.status.busy": "2023-12-06T18:48:32.574547Z",
     "iopub.status.idle": "2023-12-06T18:48:33.084469Z",
     "shell.execute_reply": "2023-12-06T18:48:33.083560Z"
    }
   },
   "outputs": [
    {
     "data": {
      "text/html": [
       "<html>\\(\\displaystyle z^{12}\\)</html>"
      ],
      "text/latex": [
       "$\\displaystyle z^{12}$"
      ],
      "text/plain": [
       "z^12"
      ]
     },
     "execution_count": 1,
     "metadata": {},
     "output_type": "execute_result"
    }
   ],
   "source": [
    "%display latex\n",
    "var('z')\n",
    "z^12"
   ]
  },
  {
   "cell_type": "code",
   "execution_count": 2,
   "id": "6ff4854b",
   "metadata": {
    "execution": {
     "iopub.execute_input": "2023-12-06T18:48:33.088275Z",
     "iopub.status.busy": "2023-12-06T18:48:33.087279Z",
     "iopub.status.idle": "2023-12-06T18:48:33.098836Z",
     "shell.execute_reply": "2023-12-06T18:48:33.098139Z"
    }
   },
   "outputs": [
    {
     "data": {
      "text/html": [
       "<html>\\(\\displaystyle \\sqrt{z^{2} + \\frac{1}{2}}\\)</html>"
      ],
      "text/latex": [
       "$\\displaystyle \\sqrt{z^{2} + \\frac{1}{2}}$"
      ],
      "text/plain": [
       "sqrt(z^2 + 1/2)"
      ]
     },
     "execution_count": 2,
     "metadata": {},
     "output_type": "execute_result"
    }
   ],
   "source": [
    "sqrt(z^2 + 1/2)"
   ]
  },
  {
   "cell_type": "code",
   "execution_count": 3,
   "id": "118bc9fd",
   "metadata": {
    "execution": {
     "iopub.execute_input": "2023-12-06T18:48:33.103012Z",
     "iopub.status.busy": "2023-12-06T18:48:33.101331Z",
     "iopub.status.idle": "2023-12-06T18:48:33.113379Z",
     "shell.execute_reply": "2023-12-06T18:48:33.112436Z"
    }
   },
   "outputs": [
    {
     "data": {
      "text/html": [
       "<html>\\(\\displaystyle \\verb|a|\\verb| |\\verb|string|\\)</html>"
      ],
      "text/latex": [
       "$\\displaystyle \\verb|a|\\verb| |\\verb|string|$"
      ],
      "text/plain": [
       "'a string'"
      ]
     },
     "execution_count": 3,
     "metadata": {},
     "output_type": "execute_result"
    }
   ],
   "source": [
    "'a string'"
   ]
  },
  {
   "cell_type": "code",
   "execution_count": 4,
   "id": "39252fd2",
   "metadata": {
    "execution": {
     "iopub.execute_input": "2023-12-06T18:48:33.118081Z",
     "iopub.status.busy": "2023-12-06T18:48:33.116598Z",
     "iopub.status.idle": "2023-12-06T18:48:33.124655Z",
     "shell.execute_reply": "2023-12-06T18:48:33.123868Z"
    }
   },
   "outputs": [
    {
     "data": {
      "text/html": [
       "<html>\\(\\displaystyle \\newcommand{\\Bold}[1]{\\mathbf{#1}}\\Bold{Q}\\)</html>"
      ],
      "text/latex": [
       "$\\displaystyle \\newcommand{\\Bold}[1]{\\mathbf{#1}}\\Bold{Q}$"
      ],
      "text/plain": [
       "Rational Field"
      ]
     },
     "execution_count": 4,
     "metadata": {},
     "output_type": "execute_result"
    }
   ],
   "source": [
    "QQ"
   ]
  },
  {
   "cell_type": "code",
   "execution_count": 5,
   "id": "27389449",
   "metadata": {
    "execution": {
     "iopub.execute_input": "2023-12-06T18:48:33.128558Z",
     "iopub.status.busy": "2023-12-06T18:48:33.127490Z",
     "iopub.status.idle": "2023-12-06T18:48:33.135358Z",
     "shell.execute_reply": "2023-12-06T18:48:33.134602Z"
    }
   },
   "outputs": [
    {
     "data": {
      "text/html": [
       "<html>\\(\\displaystyle \\newcommand{\\Bold}[1]{\\mathbf{#1}}\\Bold{Z}[x]\\)</html>"
      ],
      "text/latex": [
       "$\\displaystyle \\newcommand{\\Bold}[1]{\\mathbf{#1}}\\Bold{Z}[x]$"
      ],
      "text/plain": [
       "Univariate Polynomial Ring in x over Integer Ring"
      ]
     },
     "execution_count": 5,
     "metadata": {},
     "output_type": "execute_result"
    }
   ],
   "source": [
    "ZZ['x']"
   ]
  },
  {
   "cell_type": "code",
   "execution_count": 6,
   "id": "f8d333ce",
   "metadata": {
    "execution": {
     "iopub.execute_input": "2023-12-06T18:48:33.139890Z",
     "iopub.status.busy": "2023-12-06T18:48:33.138580Z",
     "iopub.status.idle": "2023-12-06T18:48:33.153430Z",
     "shell.execute_reply": "2023-12-06T18:48:33.152408Z"
    }
   },
   "outputs": [
    {
     "data": {
      "text/html": [
       "<html>\\(\\displaystyle \\left(\\begin{array}{rrr}\n",
       "2 & 4 & 6 \\\\\n",
       "-1 & -1 & -1\n",
       "\\end{array}\\right)\\)</html>"
      ],
      "text/latex": [
       "$\\displaystyle \\left(\\begin{array}{rrr}\n",
       "2 & 4 & 6 \\\\\n",
       "-1 & -1 & -1\n",
       "\\end{array}\\right)$"
      ],
      "text/plain": [
       "[ 2  4  6]\n",
       "[-1 -1 -1]"
      ]
     },
     "execution_count": 6,
     "metadata": {},
     "output_type": "execute_result"
    }
   ],
   "source": [
    "matrix(QQ, 2, 3, [[2,4,6],[-1,-1,-1]])"
   ]
  },
  {
   "cell_type": "code",
   "execution_count": 7,
   "id": "c74399bc",
   "metadata": {
    "execution": {
     "iopub.execute_input": "2023-12-06T18:48:33.157994Z",
     "iopub.status.busy": "2023-12-06T18:48:33.157041Z",
     "iopub.status.idle": "2023-12-06T18:48:33.165744Z",
     "shell.execute_reply": "2023-12-06T18:48:33.164671Z"
    }
   },
   "outputs": [],
   "source": [
    "%display plain"
   ]
  },
  {
   "cell_type": "code",
   "execution_count": 8,
   "id": "2a836e91",
   "metadata": {
    "execution": {
     "iopub.execute_input": "2023-12-06T18:48:33.170575Z",
     "iopub.status.busy": "2023-12-06T18:48:33.169338Z",
     "iopub.status.idle": "2023-12-06T18:48:33.178950Z",
     "shell.execute_reply": "2023-12-06T18:48:33.177913Z"
    }
   },
   "outputs": [
    {
     "data": {
      "text/html": [
       "<html>\\(\\displaystyle \\newcommand{\\Bold}[1]{\\mathbf{#1}}\\Bold{Q}\\)</html>"
      ],
      "text/latex": [
       "$\\displaystyle \\newcommand{\\Bold}[1]{\\mathbf{#1}}\\Bold{Q}$"
      ],
      "text/plain": [
       "Rational Field"
      ]
     },
     "execution_count": 8,
     "metadata": {},
     "output_type": "execute_result"
    }
   ],
   "source": [
    "%display latex\n",
    "QQ"
   ]
  },
  {
   "cell_type": "code",
   "execution_count": 9,
   "id": "000668b3",
   "metadata": {
    "execution": {
     "iopub.execute_input": "2023-12-06T18:48:33.182772Z",
     "iopub.status.busy": "2023-12-06T18:48:33.181878Z",
     "iopub.status.idle": "2023-12-06T18:48:33.189036Z",
     "shell.execute_reply": "2023-12-06T18:48:33.188192Z"
    }
   },
   "outputs": [
    {
     "data": {
      "text/html": [
       "<html>\\(\\displaystyle \\newcommand{\\Bold}[1]{\\mathbb{#1}}\\Bold{Q}\\)</html>"
      ],
      "text/latex": [
       "$\\displaystyle \\newcommand{\\Bold}[1]{\\mathbb{#1}}\\Bold{Q}$"
      ],
      "text/plain": [
       "Rational Field"
      ]
     },
     "execution_count": 9,
     "metadata": {},
     "output_type": "execute_result"
    }
   ],
   "source": [
    "latex.blackboard_bold(True)\n",
    "QQ"
   ]
  },
  {
   "cell_type": "code",
   "execution_count": 10,
   "id": "79c9d422",
   "metadata": {
    "execution": {
     "iopub.execute_input": "2023-12-06T18:48:33.192672Z",
     "iopub.status.busy": "2023-12-06T18:48:33.191732Z",
     "iopub.status.idle": "2023-12-06T18:48:33.197657Z",
     "shell.execute_reply": "2023-12-06T18:48:33.196773Z"
    }
   },
   "outputs": [],
   "source": [
    "latex.blackboard_bold(False)\n",
    "%display plain"
   ]
  },
  {
   "cell_type": "code",
   "execution_count": 11,
   "id": "9acfc1bd",
   "metadata": {
    "execution": {
     "iopub.execute_input": "2023-12-06T18:48:33.201657Z",
     "iopub.status.busy": "2023-12-06T18:48:33.200546Z",
     "iopub.status.idle": "2023-12-06T18:48:33.209944Z",
     "shell.execute_reply": "2023-12-06T18:48:33.209145Z"
    }
   },
   "outputs": [
    {
     "data": {
      "text/html": [
       "<html>\\(\\displaystyle \\sqrt{x + y}\\)</html>"
      ],
      "text/latex": [
       "$\\displaystyle \\sqrt{x + y}$"
      ],
      "text/plain": [
       "sqrt(x + y)"
      ]
     },
     "execution_count": 11,
     "metadata": {},
     "output_type": "execute_result"
    }
   ],
   "source": [
    "%display latex\n",
    "var('x y')\n",
    "sqrt(x + y)"
   ]
  },
  {
   "cell_type": "code",
   "execution_count": 12,
   "id": "c49debcf",
   "metadata": {
    "execution": {
     "iopub.execute_input": "2023-12-06T18:48:33.214162Z",
     "iopub.status.busy": "2023-12-06T18:48:33.213497Z",
     "iopub.status.idle": "2023-12-06T18:48:33.222306Z",
     "shell.execute_reply": "2023-12-06T18:48:33.221441Z"
    }
   },
   "outputs": [
    {
     "data": {
      "text/html": [
       "<html>\\(\\displaystyle \\newcommand{\\sqrt}[1]{(#1)^\\frac{1}{2}}\\sqrt{x + y}\\)</html>"
      ],
      "text/latex": [
       "$\\displaystyle \\newcommand{\\sqrt}[1]{(#1)^\\frac{1}{2}}\\sqrt{x + y}$"
      ],
      "text/plain": [
       "sqrt(x + y)"
      ]
     },
     "execution_count": 12,
     "metadata": {},
     "output_type": "execute_result"
    }
   ],
   "source": [
    "latex.add_macro(r\"\\newcommand{\\sqrt}[1]{(#1)^\\frac{1}{2}}\")\n",
    "sqrt(x + y)"
   ]
  },
  {
   "cell_type": "code",
   "execution_count": 13,
   "id": "2ee95828",
   "metadata": {
    "execution": {
     "iopub.execute_input": "2023-12-06T18:48:33.226066Z",
     "iopub.status.busy": "2023-12-06T18:48:33.225146Z",
     "iopub.status.idle": "2023-12-06T18:48:33.231716Z",
     "shell.execute_reply": "2023-12-06T18:48:33.230832Z"
    }
   },
   "outputs": [],
   "source": [
    "latex.extra_macros('')\n",
    "%display plain"
   ]
  }
 ],
 "metadata": {
  "kernelspec": {
   "display_name": "SageMath 10.2",
   "language": "sage",
   "name": "sagemath"
  },
  "language_info": {
   "codemirror_mode": {
    "name": "ipython",
    "version": 3
   },
   "file_extension": ".py",
   "mimetype": "text/x-python",
   "name": "python",
   "nbconvert_exporter": "python",
   "pygments_lexer": "ipython3",
   "version": "3.10.12"
  }
 },
 "nbformat": 4,
 "nbformat_minor": 5
}